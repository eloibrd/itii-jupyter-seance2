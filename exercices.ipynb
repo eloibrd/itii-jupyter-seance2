{
 "cells": [
  {
   "cell_type": "code",
   "execution_count": 8,
   "metadata": {},
   "outputs": [
    {
     "name": "stdout",
     "output_type": "stream",
     "text": [
      "160\n",
      "18\n"
     ]
    }
   ],
   "source": [
    "class Rectangle:\n",
    "    def __init__(self,lo,la):\n",
    "        self.longueur=lo\n",
    "        self.largeur=la\n",
    "  \n",
    "    def getLongueur(self):\n",
    "        return self.longueur\n",
    "\n",
    "    def getLargeur(self):\n",
    "        return self.largeur\n",
    "    \n",
    "    def setLongueur(self, lo):\n",
    "        self.longueur = lo\n",
    "        \n",
    "    def setLargeur(self, la):\n",
    "        self.largeur = la\n",
    "    \n",
    "    def perimetre(self):\n",
    "        return self.longueur*2 + self.largeur*2\n",
    "    \n",
    "    def surface(self):\n",
    "        return self.longueur*self.largeur\n",
    "    \n",
    "class Parallepipede(Rectangle):\n",
    "    def __init__(self, lo, la, haut):\n",
    "        Rectangle.__init__(self, lo, la)\n",
    "        self.hauteur = haut\n",
    "        \n",
    "    def setHauteur(self, haut):\n",
    "        self.hauteur = haut\n",
    "        \n",
    "    def getHauteur(self):\n",
    "        return self.hauteur\n",
    "    \n",
    "    def volume(self):\n",
    "        return self.surface() * self.hauteur\n",
    "    \n",
    "par1 = Parallepipede(4,5,8)\n",
    "print(par1.volume())\n",
    "print(par1.perimetre())"
   ]
  },
  {
   "cell_type": "code",
   "execution_count": 16,
   "metadata": {},
   "outputs": [
    {
     "name": "stdout",
     "output_type": "stream",
     "text": [
      "x : 6, y : 6\n"
     ]
    }
   ],
   "source": [
    "class Vecteur2D:\n",
    "    def __init__(self, px, py):\n",
    "        self.x=px\n",
    "        self.y=py\n",
    "  \n",
    "    def getX(self):\n",
    "        return self.x\n",
    "\n",
    "    def getY(self):\n",
    "        return self.y\n",
    "    \n",
    "    def getX(self, px):\n",
    "        self.x = px\n",
    "    \n",
    "    def getX(self, py):\n",
    "        self.y = py\n",
    "        \n",
    "    def afficher(self):\n",
    "        print(\"x : \"+str(self.x)+\", y : \"+str(self.y))\n",
    "        \n",
    "    def __add__(self,other):\n",
    "        return Vecteur2D(self.x + other.x, self.y + other.y)\n",
    "        \n",
    "vec1 = Vecteur2D(2,4)\n",
    "vec2 = Vecteur2D(4,2)\n",
    "vec3 = vec1 + vec2\n",
    "vec3.afficher()"
   ]
  },
  {
   "cell_type": "code",
   "execution_count": 20,
   "metadata": {},
   "outputs": [],
   "source": [
    "class Base:\n",
    "    def __init__(self):\n",
    "        self.data = []\n",
    "        self.index = 0\n",
    "        \n",
    "    def pop(self):\n",
    "        pass\n",
    "    \n",
    "    def push(self, elt):\n",
    "        pass\n",
    "    \n",
    "class File(Base):\n",
    "    def __init__(self):\n",
    "        super().__init__()\n",
    "        \n",
    "    def pop(self):\n",
    "        self.data.pop(0)\n",
    "        self.index-=1\n",
    "    \n",
    "    def push(self, elt):\n",
    "        self.data = self.data + elt\n",
    "        self.index+=1\n",
    "        \n",
    "class Pile(Base):\n",
    "    def __init__(self):\n",
    "        super().__init__()\n",
    "        \n",
    "    def pop(self):\n",
    "        self.data.pop(index)\n",
    "        self.index-=1\n",
    "    \n",
    "    def push(self, elt):\n",
    "        self.data = self.data + elt\n",
    "        self.index+=1\n",
    "        "
   ]
  },
  {
   "cell_type": "code",
   "execution_count": null,
   "metadata": {},
   "outputs": [],
   "source": [
    "class Mandelbrot:\n",
    "    def __init__(self):\n",
    "        pass\n",
    "    \n",
    "    def f(self, z, c):\n",
    "        return z^2 + c\n",
    "    \n",
    "    "
   ]
  }
 ],
 "metadata": {
  "kernelspec": {
   "display_name": "Python 3",
   "language": "python",
   "name": "python3"
  },
  "language_info": {
   "codemirror_mode": {
    "name": "ipython",
    "version": 3
   },
   "file_extension": ".py",
   "mimetype": "text/x-python",
   "name": "python",
   "nbconvert_exporter": "python",
   "pygments_lexer": "ipython3",
   "version": "3.7.6"
  }
 },
 "nbformat": 4,
 "nbformat_minor": 4
}
